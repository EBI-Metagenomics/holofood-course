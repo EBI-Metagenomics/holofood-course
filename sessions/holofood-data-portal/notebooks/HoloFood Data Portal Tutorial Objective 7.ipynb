{
 "cells": [
  {
   "cell_type": "markdown",
   "id": "d444ce00-5a2f-4e9d-95e0-9782023821c4",
   "metadata": {},
   "source": [
    "# Last step of the \"HoloFood Data Portal Tutorial\"\n",
    "Previous steps do not require any coding, and can be followed [in the tutorial](https://ebi-metagenomics.github.io/holofood-database/tutorial.html)"
   ]
  },
  {
   "cell_type": "markdown",
   "id": "4c795b60-f807-4d17-bf7f-f720e348b6f2",
   "metadata": {},
   "source": [
    "## Objective 7: Use Python to analyse data from the API\n",
    "\n",
    "- Use the [API](http://holofooddataportaldev-env.eba-jwzhg3z2.eu-west-1.elasticbeanstalk.com/api) to fetch a list of HoloFood samples as a Pandas dataframe (the [API docs will be very helpful](https://ebi-metagenomics.github.io/holofood-database/api.html#from-python))\n",
    "    - Only fetch samples from project `PRJEB41657`\n",
    "    - Only fetch samples from Trial A Tank 1 (which happen to have sample titles starting `SA01`)\n",
    "    - Only fetch samples which have a non-empty value for metadata variable `host length` (that's the length of the fish the sample came from)\n",
    "- Make two histograms, showing the distribution of `host length` metadata values at timepoints `trail timepoint = 0 days` and `60 days`"
   ]
  },
  {
   "cell_type": "markdown",
   "id": "3bcad96c-6440-4dad-abdc-9f528f95abc1",
   "metadata": {},
   "source": [
    "Here's a startpoint for the libraries and base API endpoint you need:"
   ]
  },
  {
   "cell_type": "code",
   "execution_count": null,
   "id": "79ff48e6-e862-4a62-aedc-f7ba7c0b70d5",
   "metadata": {},
   "outputs": [],
   "source": [
    "samples_endpoint_base = 'http://holofooddataportaldev-env.eba-jwzhg3z2.eu-west-1.elasticbeanstalk.com/api/samples'\n",
    "\n",
    "import requests\n",
    "import pandas as pd\n",
    "import matplotlib.pyplot as plt"
   ]
  },
  {
   "cell_type": "markdown",
   "id": "a663f470-5c65-4069-bf74-8e9e6c55bff3",
   "metadata": {},
   "source": [
    "Here is some broken code for you to complete (but there is a full solution below, too):"
   ]
  },
  {
   "cell_type": "code",
   "execution_count": null,
   "id": "8dfe3eab-a02a-4f68-868b-ac62fe21f413",
   "metadata": {},
   "outputs": [],
   "source": [
    "page = 1\n",
    "while page:\n",
    "    samples_page = requests.get(         FILL IN THE API ENDPOINT AND QUERY PARAMETERS            ).json()\n",
    "    samples_page_df = pd.json_normalize(            FILL IN SOME CODE TO GET ITEMS FROM THE QUERY RESPONSE                )\n",
    "    \n",
    "    if page == 1:\n",
    "        samples_df = samples_page_df\n",
    "    else:\n",
    "        samples_df = pd.concat(\n",
    "            [\n",
    "                samples_df,\n",
    "                samples_page_df\n",
    "            ]\n",
    "        )\n",
    "    \n",
    "    page += 1\n",
    "    if len(samples_df) >= samples_page['count']:\n",
    "        page = False\n",
    "\n",
    "        \n",
    "def get_host_length_and_timepoint(sample):\n",
    "    sample_detail = requests.get(             FILL IN THE SAMPLE DETAIL API ENDPOINT              ).json()\n",
    "    metadata = sample_detail['structured_metadata']\n",
    "    host_length =          WRITE SOME CODE TO GET THE host length METADATA\n",
    "    timepoint =      WRITE SOME CODE TO GET THE trial timepoint METADATA MARKER\n",
    "    return host_length['measurement'], timepoint['measurement']\n",
    "\n",
    "metadata = samples_df.apply(\n",
    "    get_host_length_and_timepoint, \n",
    "    axis='columns', \n",
    "    result_type='expand'\n",
    ").rename(\n",
    "    columns={\n",
    "        0: 'host_length_cm', \n",
    "        1: 'trial_timepoint_days'\n",
    "    }\n",
    ")\n",
    "trial_samples = pd.concat(\n",
    "    [\n",
    "        samples_df,\n",
    "        metadata\n",
    "    ]\n",
    ")\n",
    "trial_samples.groupby('trial_timepoint_days').host_length_cm.hist(legend=True, bins=5, alpha=0.5)\n",
    "plt.xlabel('Host length / cm');"
   ]
  },
  {
   "cell_type": "markdown",
   "id": "4fbb56aa-fd3f-437f-bfff-1394b204e225",
   "metadata": {},
   "source": [
    "Here is the complete code in case you get stuck.\n",
    "Click the ••• to unhide the cell."
   ]
  },
  {
   "cell_type": "code",
   "execution_count": null,
   "id": "e54d0380-8539-4d98-aa9b-c7c18c12633d",
   "metadata": {
    "jupyter": {
     "source_hidden": true
    },
    "tags": []
   },
   "outputs": [],
   "source": [
    "page = 1\n",
    "\n",
    "while page:\n",
    "    samples_page = requests.get(\n",
    "        f'{samples_endpoint_base}?{page=}&project=PRJEB41657&title=SA01&require_metadata_value=host length'\n",
    "    ).json()\n",
    "    samples_page_df = pd.json_normalize(\n",
    "        samples_page['items']\n",
    "    )\n",
    "    \n",
    "    if page == 1:\n",
    "        samples_df = samples_page_df\n",
    "    else:\n",
    "        samples_df = pd.concat(\n",
    "            [\n",
    "                samples_df,\n",
    "                samples_page_df\n",
    "            ]\n",
    "        )\n",
    "    \n",
    "    page += 1\n",
    "    if len(samples_df) >= samples_page['count']:\n",
    "        page = False\n",
    "\n",
    "def get_host_length_and_timepoint(sample):\n",
    "    sample_detail = requests.get(\n",
    "        f'{samples_endpoint_base}/{sample.accession}'\n",
    "    ).json()\n",
    "    metadata = sample_detail['structured_metadata']\n",
    "    host_length = next(\n",
    "        metadatum \n",
    "        for metadatum in metadata \n",
    "        if metadatum['marker']['name'] == 'host length'\n",
    "    )\n",
    "    timepoint = next(\n",
    "        metadatum \n",
    "        for metadatum in metadata \n",
    "        if metadatum['marker']['name'] == 'trial timepoint'\n",
    "    )\n",
    "    return host_length['measurement'], timepoint['measurement']\n",
    "\n",
    "metadata = samples_df.apply(\n",
    "    get_host_length_and_timepoint, \n",
    "    axis='columns', \n",
    "    result_type='expand'\n",
    ").rename(\n",
    "    columns={\n",
    "        0: 'host_length_cm', \n",
    "        1: 'trial_timepoint_days'\n",
    "    }\n",
    ")\n",
    "trial_samples = pd.concat(\n",
    "    [\n",
    "        samples_df,\n",
    "        metadata\n",
    "    ]\n",
    ")\n",
    "trial_samples.groupby('trial_timepoint_days').host_length_cm.hist(legend=True, bins=5, alpha=0.5)\n",
    "plt.xlabel('Host length / cm');"
   ]
  },
  {
   "cell_type": "code",
   "execution_count": null,
   "id": "6da5be8f-8ed8-4b5f-9d4a-5eab33753d45",
   "metadata": {},
   "outputs": [],
   "source": []
  }
 ],
 "metadata": {
  "kernelspec": {
   "display_name": "Python 3 (ipykernel)",
   "language": "python",
   "name": "python3"
  },
  "language_info": {
   "codemirror_mode": {
    "name": "ipython",
    "version": 3
   },
   "file_extension": ".py",
   "mimetype": "text/x-python",
   "name": "python",
   "nbconvert_exporter": "python",
   "pygments_lexer": "ipython3",
   "version": "3.10.4"
  }
 },
 "nbformat": 4,
 "nbformat_minor": 5
}
